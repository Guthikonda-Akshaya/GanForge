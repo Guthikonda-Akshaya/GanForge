{
  "nbformat": 4,
  "nbformat_minor": 0,
  "metadata": {
    "colab": {
      "provenance": [],
      "authorship_tag": "ABX9TyPWnAzHn54wIL4fruad7XJr",
      "include_colab_link": true
    },
    "kernelspec": {
      "name": "python3",
      "display_name": "Python 3"
    },
    "language_info": {
      "name": "python"
    }
  },
  "cells": [
    {
      "cell_type": "markdown",
      "metadata": {
        "id": "view-in-github",
        "colab_type": "text"
      },
      "source": [
        "<a href=\"https://colab.research.google.com/github/Guthikonda-Akshaya/GanForge/blob/assignment-3/a3q1.ipynb\" target=\"_parent\"><img src=\"https://colab.research.google.com/assets/colab-badge.svg\" alt=\"Open In Colab\"/></a>"
      ]
    },
    {
      "cell_type": "code",
      "execution_count": null,
      "metadata": {
        "colab": {
          "base_uri": "https://localhost:8080/"
        },
        "id": "C4UaVk2w27Gv",
        "outputId": "0d7801d6-44e0-489e-d13e-5d5e5d54f13b"
      },
      "outputs": [
        {
          "output_type": "stream",
          "name": "stdout",
          "text": [
            "X_train: torch.Size([120, 4])\n",
            "y_train: torch.Size([120, 3])\n"
          ]
        }
      ],
      "source": [
        "# Task1\n",
        "import torch\n",
        "from sklearn.datasets import load_iris\n",
        "from sklearn.model_selection import train_test_split\n",
        "from sklearn.preprocessing import StandardScaler\n",
        "from tensorflow.keras.utils import to_categorical    # required by the question\n",
        "\n",
        "# 1. Load the Iris dataset\n",
        "iris = load_iris()\n",
        "X = iris.data  # Features\n",
        "y = iris.target  # Labels\n",
        "\n",
        "# 2. Train-test split (80% train, 20% test)\n",
        "X_train, X_test, y_train, y_test = train_test_split(\n",
        "    X, y, test_size=0.2, random_state=42, stratify=y\n",
        ")\n",
        "\n",
        "# 3. Standardize features\n",
        "scaler = StandardScaler()\n",
        "X_train = scaler.fit_transform(X_train)\n",
        "X_test = scaler.transform(X_test)\n",
        "\n",
        "# 4. One-hot encode target labels using to_categorical()\n",
        "y_train_encoded = to_categorical(y_train, num_classes=3)\n",
        "y_test_encoded = to_categorical(y_test, num_classes=3)\n",
        "\n",
        "# 5. Convert to PyTorch tensors\n",
        "X_train_tensor = torch.tensor(X_train, dtype=torch.float32)\n",
        "X_test_tensor = torch.tensor(X_test, dtype=torch.float32)\n",
        "y_train_tensor = torch.tensor(y_train_encoded, dtype=torch.float32)\n",
        "y_test_tensor = torch.tensor(y_test_encoded, dtype=torch.float32)\n",
        "\n",
        "# Check tensor shapes\n",
        "print(\"X_train:\", X_train_tensor.shape)\n",
        "print(\"y_train:\", y_train_tensor.shape)"
      ]
    },
    {
      "cell_type": "code",
      "source": [
        "#Task2\n",
        "import torch.nn as nn\n",
        "import torch.nn.functional as F\n",
        "\n",
        "# Define the Neural Network class\n",
        "class IrisNet(nn.Module):\n",
        "    def __init__(self):\n",
        "        super(IrisNet, self).__init__()\n",
        "\n",
        "        # Input layer to hidden layer (4 -> 8)\n",
        "        self.fc1 = nn.Linear(4, 8)\n",
        "\n",
        "        # Hidden layer to output layer (8 -> 3)\n",
        "        self.fc2 = nn.Linear(8, 3)\n",
        "\n",
        "    def forward(self, x):\n",
        "        # Hidden layer with ReLU activation\n",
        "        x = F.relu(self.fc1(x))\n",
        "\n",
        "        # Output layer with Softmax activation\n",
        "        x = F.softmax(self.fc2(x), dim=1)  # softmax along the class dimension\n",
        "        return x\n",
        "\n",
        "# Instantiate the model\n",
        "model = IrisNet()\n",
        "\n",
        "# Print model architecture\n",
        "print(model)\n"
      ],
      "metadata": {
        "colab": {
          "base_uri": "https://localhost:8080/"
        },
        "id": "q8Q4nwO232LU",
        "outputId": "b943159e-f4ee-4997-a8a7-6e078ebdb2a6"
      },
      "execution_count": null,
      "outputs": [
        {
          "output_type": "stream",
          "name": "stdout",
          "text": [
            "IrisNet(\n",
            "  (fc1): Linear(in_features=4, out_features=8, bias=True)\n",
            "  (fc2): Linear(in_features=8, out_features=3, bias=True)\n",
            ")\n"
          ]
        }
      ]
    },
    {
      "cell_type": "code",
      "source": [
        "#task3\n",
        "import torch.optim as optim\n",
        "from torch.utils.data import TensorDataset, DataLoader\n",
        "\n",
        "# Define batch size and epochs\n",
        "batch_size = 5\n",
        "epochs = 100\n",
        "\n",
        "# 1. Create TensorDataset and DataLoader\n",
        "train_dataset = TensorDataset(X_train_tensor, y_train_tensor)\n",
        "train_loader = DataLoader(train_dataset, batch_size=batch_size, shuffle=True)\n",
        "\n",
        "# 2. Loss function: categorical cross-entropy (use nn.CrossEntropyLoss if labels are class indices,\n",
        "# but we are using one-hot labels, so we use nn.BCELoss with softmax outputs)\n",
        "loss_function = nn.BCELoss()  # since softmax + one-hot => use BCELoss (not CrossEntropyLoss)\n",
        "\n",
        "# 3. Optimizer: Adam\n",
        "optimizer = optim.Adam(model.parameters(), lr=0.01)\n",
        "\n",
        "# 4. Training loop\n",
        "for epoch in range(epochs):\n",
        "    total_loss = 0\n",
        "    for batch_X, batch_y in train_loader:\n",
        "        # Forward pass\n",
        "        outputs = model(batch_X)\n",
        "\n",
        "        # Compute loss\n",
        "        loss = loss_function(outputs, batch_y)\n",
        "\n",
        "        # Backward and optimize\n",
        "        optimizer.zero_grad()\n",
        "        loss.backward()\n",
        "        optimizer.step()\n",
        "\n",
        "        total_loss += loss.item()\n",
        "\n",
        "    # Print loss every 10 epochs\n",
        "    if (epoch+1) % 10 == 0:\n",
        "        print(f\"Epoch [{epoch+1}/{epochs}], Loss: {total_loss:.4f}\")\n"
      ],
      "metadata": {
        "colab": {
          "base_uri": "https://localhost:8080/"
        },
        "id": "f1Foabxc4HZO",
        "outputId": "21bad26b-90e9-4603-dc87-ee5fe96c123c"
      },
      "execution_count": null,
      "outputs": [
        {
          "output_type": "stream",
          "name": "stdout",
          "text": [
            "Epoch [10/100], Loss: 1.5419\n",
            "Epoch [20/100], Loss: 1.1415\n",
            "Epoch [30/100], Loss: 0.8097\n",
            "Epoch [40/100], Loss: 0.7421\n",
            "Epoch [50/100], Loss: 0.7157\n",
            "Epoch [60/100], Loss: 0.6253\n",
            "Epoch [70/100], Loss: 0.5547\n",
            "Epoch [80/100], Loss: 0.5081\n",
            "Epoch [90/100], Loss: 0.5449\n",
            "Epoch [100/100], Loss: 0.5474\n"
          ]
        }
      ]
    },
    {
      "cell_type": "code",
      "source": [
        "#Task4\n",
        "# Disable gradient calculation for evaluation\n",
        "with torch.no_grad():\n",
        "    # Forward pass on test data\n",
        "    outputs = model(X_test_tensor)  # shape: [30, 3]\n",
        "\n",
        "    # Predicted class is the index with the highest probability\n",
        "    predicted_classes = torch.argmax(outputs, dim=1)  # shape: [30]\n",
        "\n",
        "    # Actual class (convert one-hot encoded test labels to class indices)\n",
        "    actual_classes = torch.argmax(y_test_tensor, dim=1)\n",
        "\n",
        "    # Calculate accuracy\n",
        "    correct = (predicted_classes == actual_classes).sum().item()\n",
        "    total = actual_classes.size(0)\n",
        "    accuracy = correct / total * 100\n",
        "\n",
        "    print(f\"Test Accuracy: {accuracy:.2f}%\")\n"
      ],
      "metadata": {
        "colab": {
          "base_uri": "https://localhost:8080/"
        },
        "id": "gwm9gx9i4P1F",
        "outputId": "2444704a-c6e7-4ecf-bc62-67995fd00766"
      },
      "execution_count": null,
      "outputs": [
        {
          "output_type": "stream",
          "name": "stdout",
          "text": [
            "Test Accuracy: 96.67%\n"
          ]
        }
      ]
    }
  ]
}