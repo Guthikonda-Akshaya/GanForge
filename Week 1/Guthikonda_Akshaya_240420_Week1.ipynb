{
  "cells": [
    {
      "cell_type": "code",
      "execution_count": null,
      "metadata": {
        "id": "BLVwf4_ExMKR"
      },
      "outputs": [],
      "source": []
    },
    {
      "cell_type": "code",
      "execution_count": 3,
      "metadata": {
        "id": "GG07LiQhyk_2"
      },
      "outputs": [
        {
          "name": "stdout",
          "output_type": "stream",
          "text": [
            " No images found. Please check the paths.\n"
          ]
        }
      ],
      "source": [
        "import matplotlib.pyplot as plt\n",
        "import matplotlib.image as mpimg\n",
        "import numpy as np\n",
        "from glob import glob\n",
        "\n",
        "\n",
        "cat_images = glob('/content/cats_and_dogs_filtered/train/cats/*.jpg')\n",
        "dog_images = glob('/content/cats_and_dogs_filtered/train/dogs/*.jpg')\n",
        "\n",
        "if cat_images and dog_images:\n",
        "    cat_img = mpimg.imread(cat_images[0])\n",
        "    dog_img = mpimg.imread(dog_images[0])\n",
        "\n",
        "    # Display\n",
        "    fig, axes = plt.subplots(1, 2, figsize=(10, 5))\n",
        "    axes[0].imshow(cat_img)\n",
        "    axes[0].set_title(\"Cat\")\n",
        "    axes[0].axis('off')\n",
        "\n",
        "    axes[1].imshow(dog_img)\n",
        "    axes[1].set_title(\"Dog\")\n",
        "    axes[1].axis('off')\n",
        "\n",
        "    plt.tight_layout()\n",
        "    plt.show()\n",
        "else:\n",
        "    print(\" No images found. Please check the paths.\")"
      ]
    },
    {
      "cell_type": "code",
      "execution_count": 4,
      "metadata": {
        "id": "1mjZYCABAQId"
      },
      "outputs": [
        {
          "ename": "IndexError",
          "evalue": "list index out of range",
          "output_type": "error",
          "traceback": [
            "\u001b[31m---------------------------------------------------------------------------\u001b[39m",
            "\u001b[31mIndexError\u001b[39m                                Traceback (most recent call last)",
            "\u001b[36mCell\u001b[39m\u001b[36m \u001b[39m\u001b[32mIn[4]\u001b[39m\u001b[32m, line 2\u001b[39m\n\u001b[32m      1\u001b[39m \u001b[38;5;66;03m#Image Manipulation\u001b[39;00m\n\u001b[32m----> \u001b[39m\u001b[32m2\u001b[39m img=plt.imread(\u001b[43mdog_images\u001b[49m\u001b[43m \u001b[49m\u001b[43m[\u001b[49m\u001b[32;43m2\u001b[39;49m\u001b[43m]\u001b[49m)\n\u001b[32m      3\u001b[39m fig, axes = plt.subplots(figsize=(\u001b[32m8\u001b[39m, \u001b[32m8\u001b[39m))\n\u001b[32m      4\u001b[39m axes.imshow(img)\n",
            "\u001b[31mIndexError\u001b[39m: list index out of range"
          ]
        }
      ],
      "source": [
        "#Image Manipulation\n",
        "img=plt.imread(dog_images [2])\n",
        "fig, axes = plt.subplots(figsize=(8, 8))\n",
        "axes.imshow(img)\n",
        "axes.axis('off')\n",
        "plt.show()"
      ]
    },
    {
      "cell_type": "code",
      "execution_count": null,
      "metadata": {
        "id": "Pfhi4QQOBm1H"
      },
      "outputs": [],
      "source": [
        "cv2.cvtColor(img, cv2.COLOR_BGR2RGB)"
      ]
    },
    {
      "cell_type": "code",
      "execution_count": null,
      "metadata": {
        "id": "kfrq2HyeCHO9"
      },
      "outputs": [],
      "source": [
        "#resizing\n",
        "img_resize=cv2.resize(img, None,fx=0.50,fy=0.50)\n",
        "fig, axes = plt.subplots(figsize=(8, 8))\n",
        "axes.imshow(img_resize)\n",
        "axes.axis('off')\n",
        "plt.show()"
      ]
    },
    {
      "cell_type": "code",
      "execution_count": null,
      "metadata": {
        "id": "RHMFX5WDDQqX"
      },
      "outputs": [],
      "source": [
        "#resizing\n",
        "img_resize=cv2.resize(img,(100,200), interpolation = cv2.INTER_CUBIC)\n",
        "fig, axes = plt.subplots(figsize=(8, 8))\n",
        "axes.imshow(img_resize)\n",
        "axes.axis('off')\n",
        "plt.show()"
      ]
    },
    {
      "cell_type": "code",
      "execution_count": null,
      "metadata": {
        "id": "RFq3t8wgGViu"
      },
      "outputs": [
        {
          "ename": "NameError",
          "evalue": "name 'np' is not defined",
          "output_type": "error",
          "traceback": [
            "\u001b[31m---------------------------------------------------------------------------\u001b[39m",
            "\u001b[31mNameError\u001b[39m                                 Traceback (most recent call last)",
            "\u001b[36mCell\u001b[39m\u001b[36m \u001b[39m\u001b[32mIn[1]\u001b[39m\u001b[32m, line 2\u001b[39m\n\u001b[32m      1\u001b[39m  \u001b[38;5;66;03m#sharpening \u001b[39;00m\n\u001b[32m----> \u001b[39m\u001b[32m2\u001b[39m image_sharpen = \u001b[43mnp\u001b[49m.array([[\u001b[32m0\u001b[39m, -\u001b[32m1\u001b[39m, \u001b[32m0\u001b[39m], [-\u001b[32m1\u001b[39m, \u001b[32m5\u001b[39m, -\u001b[32m1\u001b[39m], [\u001b[32m0\u001b[39m, -\u001b[32m1\u001b[39m, \u001b[32m0\u001b[39m]])\n\u001b[32m      3\u001b[39m sharpened = cv2.filter2D(img, -\u001b[32m1\u001b[39m, image_sharpen)\n\u001b[32m      4\u001b[39m fig, axes = plt.subplots(figsize=(\u001b[32m8\u001b[39m, \u001b[32m8\u001b[39m))\n",
            "\u001b[31mNameError\u001b[39m: name 'np' is not defined"
          ]
        }
      ],
      "source": [
        " #sharpening image\n",
        "image_sharpen = np.array([[0, -1, 0], [-1, 5, -1], [0, -1, 0]])\n",
        "sharpened = cv2.filter2D(img, -1, image_sharpen)\n",
        "fig, axes = plt.subplots(figsize=(8, 8))\n",
        "axes.imshow(sharpened)\n",
        "axes.axis('off')\n",
        "axes.set_title('Sharpened Image')\n",
        "plt.show()"
      ]
    },
    {
      "cell_type": "code",
      "execution_count": null,
      "metadata": {
        "id": "zVCFohHEI1v8"
      },
      "outputs": [
        {
          "ename": "NameError",
          "evalue": "name 'np' is not defined",
          "output_type": "error",
          "traceback": [
            "\u001b[31m---------------------------------------------------------------------------\u001b[39m",
            "\u001b[31mNameError\u001b[39m                                 Traceback (most recent call last)",
            "\u001b[36mCell\u001b[39m\u001b[36m \u001b[39m\u001b[32mIn[2]\u001b[39m\u001b[32m, line 2\u001b[39m\n\u001b[32m      1\u001b[39m \u001b[38;5;66;03m#blurring image\u001b[39;00m\n\u001b[32m----> \u001b[39m\u001b[32m2\u001b[39m image_3x3 = \u001b[43mnp\u001b[49m.ones((\u001b[32m3\u001b[39m, \u001b[32m3\u001b[39m), dtype=np.float32) / \u001b[32m8.0\u001b[39m\n\u001b[32m      3\u001b[39m blurred = cv2.filter2D(img, -\u001b[32m1\u001b[39m, image_3x3)\n\u001b[32m      4\u001b[39m fig, axes = plt.subplots(figsize=(\u001b[32m8\u001b[39m, \u001b[32m8\u001b[39m))\n",
            "\u001b[31mNameError\u001b[39m: name 'np' is not defined"
          ]
        }
      ],
      "source": [
        "#blurring image\n",
        "image_3x3 = np.ones((3, 3), dtype=np.float32) / 8.0\n",
        "blurred = cv2.filter2D(img, -1, image_3x3)\n",
        "fig, axes = plt.subplots(figsize=(8, 8))\n",
        "axes.imshow(blurred)\n",
        "axes.axis('off')\n",
        "axes.set_title('Blurred Image')\n",
        "plt.show()"
      ]
    }
  ],
  "metadata": {
    "colab": {
      "provenance": []
    },
    "kernelspec": {
      "display_name": "Python 3",
      "name": "python3"
    },
    "language_info": {
      "codemirror_mode": {
        "name": "ipython",
        "version": 3
      },
      "file_extension": ".py",
      "mimetype": "text/x-python",
      "name": "python",
      "nbconvert_exporter": "python",
      "pygments_lexer": "ipython3",
      "version": "3.13.3"
    }
  },
  "nbformat": 4,
  "nbformat_minor": 0
}
